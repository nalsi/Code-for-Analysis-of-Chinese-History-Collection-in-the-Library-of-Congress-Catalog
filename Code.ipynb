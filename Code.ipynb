{
 "cells": [
  {
   "cell_type": "code",
   "execution_count": 1,
   "id": "a4a7c1cf-70ca-4868-a978-21db10f2e6eb",
   "metadata": {},
   "outputs": [],
   "source": [
    "import pandas as pd\n",
    "import re\n",
    "from plotnine import *\n",
    "\n",
    "def isNaN(num):\n",
    "    return num != num"
   ]
  },
  {
   "cell_type": "markdown",
   "id": "b0797f21-7e88-4d11-9559-6c1ca6f4f97d",
   "metadata": {},
   "source": [
    "### 1. Load datasets"
   ]
  },
  {
   "cell_type": "code",
   "execution_count": 2,
   "id": "43e982ed-c601-4707-98c3-f2010043b1a8",
   "metadata": {},
   "outputs": [
    {
     "name": "stderr",
     "output_type": "stream",
     "text": [
      "/var/folders/f3/ps2lxzsn0xd88g38v89kxplc0000gn/T/ipykernel_5383/3485087148.py:2: DtypeWarning: Columns (8,10,11,18,22,23) have mixed types. Specify dtype option on import or set low_memory=False.\n"
     ]
    }
   ],
   "source": [
    "# meta contains all book-level metadata information, such as publication year and primary language\n",
    "meta = pd.read_csv(\"../processed_lc_2019/main_processed.csv\", dtype={'literary': str})"
   ]
  },
  {
   "cell_type": "code",
   "execution_count": 3,
   "id": "513d1333-1497-433c-85ea-c440acdbeb9c",
   "metadata": {},
   "outputs": [
    {
     "name": "stderr",
     "output_type": "stream",
     "text": [
      "/var/folders/f3/ps2lxzsn0xd88g38v89kxplc0000gn/T/ipykernel_5383/1908521583.py:2: DtypeWarning: Columns (8) have mixed types. Specify dtype option on import or set low_memory=False.\n",
      "/var/folders/f3/ps2lxzsn0xd88g38v89kxplc0000gn/T/ipykernel_5383/1908521583.py:3: DtypeWarning: Columns (1,12) have mixed types. Specify dtype option on import or set low_memory=False.\n",
      "/var/folders/f3/ps2lxzsn0xd88g38v89kxplc0000gn/T/ipykernel_5383/1908521583.py:4: DtypeWarning: Columns (2,11) have mixed types. Specify dtype option on import or set low_memory=False.\n",
      "/var/folders/f3/ps2lxzsn0xd88g38v89kxplc0000gn/T/ipykernel_5383/1908521583.py:6: DtypeWarning: Columns (3) have mixed types. Specify dtype option on import or set low_memory=False.\n"
     ]
    }
   ],
   "source": [
    "# All different subject tables.\n",
    "subject = pd.read_csv(\"../processed_lc_2019/subjects_table.csv\")\n",
    "subject_author = pd.read_csv(\"../processed_lc_2019/subjects_author_table.csv\")\n",
    "subject_corporate = pd.read_csv(\"../processed_lc_2019/subjects_corporate_table.csv\")\n",
    "subject_meeting = pd.read_csv(\"../processed_lc_2019/subjects_meeting_table.csv\")\n",
    "subject_title = pd.read_csv(\"../processed_lc_2019/subjects_title_table.csv\")"
   ]
  },
  {
   "cell_type": "code",
   "execution_count": 4,
   "id": "355f2a5f-6396-48a9-9ecc-d4a8ec2c0338",
   "metadata": {},
   "outputs": [],
   "source": [
    "location_mapping = pd.read_csv(\"../country_code.csv\")\n",
    "languages = pd.read_csv(\"../processed_lc_2019/language_table.csv\")"
   ]
  },
  {
   "cell_type": "markdown",
   "id": "45fbf362-220c-49a6-836e-b51131352748",
   "metadata": {},
   "source": [
    "#### 1.1. Final sample"
   ]
  },
  {
   "cell_type": "code",
   "execution_count": 5,
   "id": "060e7ffe-d558-43c2-a042-cd811eacf308",
   "metadata": {},
   "outputs": [],
   "source": [
    "# meta1 is the final sample we use later.\n",
    "sub6 = subject.loc[(subject['topic'] == \"China\") & (subject['general'] == \"History\")]\n",
    "meta1 = meta.loc[meta.id.isin(sub6.id)]\n",
    "# Remove all literary works\n",
    "meta2 = meta1.loc[meta1['literary'] == \"0\"]"
   ]
  },
  {
   "cell_type": "code",
   "execution_count": 6,
   "id": "5f316430-f5b3-4484-936a-db023f14a262",
   "metadata": {},
   "outputs": [
    {
     "name": "stdout",
     "output_type": "stream",
     "text": [
      "21904\n",
      "20786\n"
     ]
    }
   ],
   "source": [
    "print(len(meta1.index))\n",
    "print(len(meta2.index))"
   ]
  },
  {
   "cell_type": "markdown",
   "id": "a062f3e4-892b-44a3-896b-ca7f5fc7abfc",
   "metadata": {},
   "source": [
    "A total of 20,786 books were identified from this method."
   ]
  },
  {
   "cell_type": "markdown",
   "id": "6cad33fe-15d5-4803-b524-4244861f2a87",
   "metadata": {},
   "source": [
    "#### 1.2 Processing subject information"
   ]
  },
  {
   "cell_type": "code",
   "execution_count": 7,
   "id": "a83e9233-8337-43d6-890c-629e82f24218",
   "metadata": {},
   "outputs": [
    {
     "name": "stdout",
     "output_type": "stream",
     "text": [
      "48884\n",
      "20786\n"
     ]
    },
    {
     "name": "stderr",
     "output_type": "stream",
     "text": [
      "/var/folders/f3/ps2lxzsn0xd88g38v89kxplc0000gn/T/ipykernel_5383/3252383805.py:2: SettingWithCopyWarning: \n",
      "A value is trying to be set on a copy of a slice from a DataFrame.\n",
      "Try using .loc[row_indexer,col_indexer] = value instead\n",
      "\n",
      "See the caveats in the documentation: https://pandas.pydata.org/pandas-docs/stable/user_guide/indexing.html#returning-a-view-versus-a-copy\n"
     ]
    }
   ],
   "source": [
    "sub1a = subject.loc[subject.id.isin(meta2.id)]\n",
    "sub1a['chronological'] = sub1a['chronological'].astype(str)\n",
    "\n",
    "# Unique subjects: 48.88k from all publications\n",
    "print(len(sub1a.index))\n",
    "print(len(sub1a.id.unique()))"
   ]
  },
  {
   "cell_type": "code",
   "execution_count": 8,
   "id": "4a589865-ad19-42f0-920f-fd9da77d1c44",
   "metadata": {},
   "outputs": [
    {
     "name": "stdout",
     "output_type": "stream",
     "text": [
      "55025\n",
      "0.8883961835529305\n"
     ]
    }
   ],
   "source": [
    "subject1b = subject_author.loc[subject_author.id.isin(meta2.id)]\n",
    "subject1c = subject_corporate.loc[subject_corporate.id.isin(meta2.id)]\n",
    "subject1d = subject_meeting.loc[subject_meeting.id.isin(meta2.id)]\n",
    "subject1e = subject_title.loc[subject_title.id.isin(meta2.id)]\n",
    "\n",
    "print(len(sub1a.index) + len(subject1b.index)+ len(subject1c.index)+ len(subject1d.index)+ len(subject1e.index))\n",
    "print(48884 / 55025)"
   ]
  },
  {
   "cell_type": "code",
   "execution_count": 9,
   "id": "67b22a76-5df6-4b21-9841-d35fe8901945",
   "metadata": {},
   "outputs": [
    {
     "name": "stderr",
     "output_type": "stream",
     "text": [
      "/var/folders/f3/ps2lxzsn0xd88g38v89kxplc0000gn/T/ipykernel_5383/801625346.py:13: SettingWithCopyWarning: \n",
      "A value is trying to be set on a copy of a slice from a DataFrame.\n",
      "Try using .loc[row_indexer,col_indexer] = value instead\n",
      "\n",
      "See the caveats in the documentation: https://pandas.pydata.org/pandas-docs/stable/user_guide/indexing.html#returning-a-view-versus-a-copy\n",
      "/var/folders/f3/ps2lxzsn0xd88g38v89kxplc0000gn/T/ipykernel_5383/801625346.py:14: SettingWithCopyWarning: \n",
      "A value is trying to be set on a copy of a slice from a DataFrame.\n",
      "Try using .loc[row_indexer,col_indexer] = value instead\n",
      "\n",
      "See the caveats in the documentation: https://pandas.pydata.org/pandas-docs/stable/user_guide/indexing.html#returning-a-view-versus-a-copy\n"
     ]
    }
   ],
   "source": [
    "# clean dynasty information\n",
    "\n",
    "def clean_chron(x):\n",
    "    try:\n",
    "        x = str(x)\n",
    "    except:\n",
    "        x = x\n",
    "    x = re.sub('\\.','',x)\n",
    "    x = re.sub('  ',' ',x)\n",
    "    x = x.lower()\n",
    "    return(x)\n",
    "\n",
    "sub1a['chron_cleaned'] = sub1a['chronological'].apply(clean_chron)\n",
    "sub1a['geo_cleaned'] = sub1a['geographic'].apply(clean_chron)"
   ]
  },
  {
   "cell_type": "code",
   "execution_count": 10,
   "id": "fe691203-356e-4272-9d70-b3c0ce056e32",
   "metadata": {},
   "outputs": [
    {
     "name": "stderr",
     "output_type": "stream",
     "text": [
      "/var/folders/f3/ps2lxzsn0xd88g38v89kxplc0000gn/T/ipykernel_5383/721614938.py:10: SettingWithCopyWarning: \n",
      "A value is trying to be set on a copy of a slice from a DataFrame.\n",
      "Try using .loc[row_indexer,col_indexer] = value instead\n",
      "\n",
      "See the caveats in the documentation: https://pandas.pydata.org/pandas-docs/stable/user_guide/indexing.html#returning-a-view-versus-a-copy\n"
     ]
    }
   ],
   "source": [
    "import re\n",
    "\n",
    "def is_china(x):\n",
    "    match = re.match(\"china|chinese\", x)\n",
    "    if match:\n",
    "        return(True)\n",
    "    else:\n",
    "        return(False)\n",
    "\n",
    "sub1a['geo_is_china'] = sub1a['geo_cleaned'].map(is_china)"
   ]
  },
  {
   "cell_type": "code",
   "execution_count": 11,
   "id": "0872dbfc-0ee1-49e8-8a61-f4dbf922df48",
   "metadata": {},
   "outputs": [],
   "source": [
    "# sub1b would be the narrow terms, while sub1c is the counter group\n",
    "sub1b = sub1a.loc[(sub1a['geo_is_china'] == True) | (sub1a.topic == \"China\")]\n",
    "sub1c = sub1a.loc[~ ((sub1a['geo_is_china'] == False) | (sub1a.topic == \"China\"))]"
   ]
  },
  {
   "cell_type": "code",
   "execution_count": 12,
   "id": "6211c855-1beb-4358-9b30-069901b9c0a6",
   "metadata": {},
   "outputs": [],
   "source": [
    "meta2b = meta2.merge(location_mapping[['code', 'mapped_country', 'mapped_country1']], how = \"left\", left_on = \"place\", right_on = \"code\")\n",
    "\n",
    "def language_map(x):\n",
    "    if x == \"chi\":\n",
    "        return(\"Chinese\")\n",
    "    elif x == \"eng\":\n",
    "        return(\"English\")\n",
    "    else:\n",
    "        return(\"Others\")\n",
    "\n",
    "meta2b['language_mapped'] = meta2b['language'].map(language_map)"
   ]
  },
  {
   "cell_type": "markdown",
   "id": "4cd24dfd-f4eb-4276-bccb-76a290281137",
   "metadata": {},
   "source": [
    "#### 1.3 Processing dynasty information"
   ]
  },
  {
   "cell_type": "code",
   "execution_count": 13,
   "id": "59b29d46-c8a2-407f-a76a-8f0d318addc3",
   "metadata": {},
   "outputs": [],
   "source": [
    "# Create dynasty mapping table\n",
    "\n",
    "sub2 = pd.read_csv(\"../Parsed_Time_Periods_Manual_Annotated.csv\")\n",
    "\n",
    "sub2_dyn = sub2.assign(Items=sub2['dynasty_grouped'].str.split(', ')).explode('Items')\n",
    "sub2_dyn1 = sub2_dyn.groupby(\"chron_cleaned\").size().reset_index()\n",
    "\n",
    "# create weight for the dynasty on each dynasty name\n",
    "sub2_dyn1.columns = ['chron_cleaned', 'total_count']\n",
    "sub2_dyn = sub2_dyn.merge(sub2_dyn1, on = \"chron_cleaned\", how = \"left\")\n",
    "sub2_dyn['dynasty_weight'] = 1 / sub2_dyn['total_count']\n",
    "\n",
    "sub2_dyn = sub2_dyn[['chron_cleaned', 'Items', 'dynasty_weight']]"
   ]
  },
  {
   "cell_type": "code",
   "execution_count": 14,
   "id": "bc84f238-d962-46da-8451-e0acd090c1c0",
   "metadata": {},
   "outputs": [],
   "source": [
    "# Create long period mapping table\n",
    "\n",
    "sub2_long = sub2.assign(Items=sub2['long_term_grouped'].str.split(', ')).explode('Items')\n",
    "sub2_long1 = sub2_long.groupby(\"chron_cleaned\").size().reset_index()\n",
    "sub2_long1.columns = ['chron_cleaned', 'total_count']\n",
    "sub2_long = sub2_long.merge(sub2_long1, on = \"chron_cleaned\", how = \"left\")\n",
    "\n",
    "sub2_long['dynasty_weight'] = 1 / sub2_long['total_count']"
   ]
  },
  {
   "cell_type": "code",
   "execution_count": 15,
   "id": "f03c9f2a-412e-4a8b-8b0c-c6e616beb293",
   "metadata": {},
   "outputs": [],
   "source": [
    "meta3 = meta2b.merge(sub1b, on = \"id\", how = \"left\")\n",
    "meta3 = meta3.merge(sub2_dyn, on = \"chron_cleaned\", how = \"left\")\n",
    "meta3 = meta3.merge(sub2_long, on = \"chron_cleaned\", how = \"left\")"
   ]
  },
  {
   "cell_type": "code",
   "execution_count": 16,
   "id": "a8886761-3b95-4c1f-bce3-8e153c6dcfd0",
   "metadata": {},
   "outputs": [
    {
     "name": "stdout",
     "output_type": "stream",
     "text": [
      "How many books have any dynasty information?\n",
      "19441\n"
     ]
    }
   ],
   "source": [
    "meta3a = meta3.loc[isNaN(meta3.Items_x) == False]\n",
    "print(\"How many books have any dynasty information?\")\n",
    "print(meta3a.id.nunique())"
   ]
  },
  {
   "cell_type": "markdown",
   "id": "9e777737-f397-4005-9240-facb253eb76a",
   "metadata": {},
   "source": [
    "### 2. Results"
   ]
  },
  {
   "cell_type": "markdown",
   "id": "df1218ef-50ec-4a15-892a-e684325f2354",
   "metadata": {},
   "source": [
    "#### 2.1 Figure 1: Total book by year"
   ]
  },
  {
   "cell_type": "code",
   "execution_count": 17,
   "id": "b3440c5b-3846-4525-8636-a85999f6bf35",
   "metadata": {},
   "outputs": [
    {
     "name": "stdout",
     "output_type": "stream",
     "text": [
      "19819\n",
      "18564\n"
     ]
    }
   ],
   "source": [
    "meta2_f1 = meta2.loc[meta2.year_processed > 1945]\n",
    "print(len(meta2_f1.index))\n",
    "meta2_f2 = meta2b.loc[(meta2b.year_processed > 1945) & (meta2b.mapped_country.isin(['China', \"US\", \"Taiwan\", \"Europe\"]))]\n",
    "print(len(meta2_f2.index))"
   ]
  },
  {
   "cell_type": "code",
   "execution_count": 18,
   "id": "1e93eb35-eaf4-4a53-b09b-81f63fb851ae",
   "metadata": {},
   "outputs": [
    {
     "name": "stderr",
     "output_type": "stream",
     "text": [
      "/Users/likai/opt/anaconda3/lib/python3.9/site-packages/plotnine/ggplot.py:718: PlotnineWarning: Saving 5 x 3.6 in image.\n",
      "/Users/likai/opt/anaconda3/lib/python3.9/site-packages/plotnine/ggplot.py:719: PlotnineWarning: Filename: ../fig_1.jpg\n",
      "/Users/likai/opt/anaconda3/lib/python3.9/site-packages/plotnine/layer.py:333: PlotnineWarning: stat_bin : Removed 967 rows containing non-finite values.\n",
      "/Users/likai/opt/anaconda3/lib/python3.9/site-packages/plotnine/stats/binning.py:152: FutureWarning: The provided callable <function sum at 0x7f7c8877c5e0> is currently using DataFrameGroupBy.sum. In a future version of pandas, the provided callable will be used directly. To keep current behavior pass the string \"sum\" instead.\n",
      "/Users/likai/opt/anaconda3/lib/python3.9/site-packages/plotnine/layer.py:411: PlotnineWarning: geom_histogram : Removed 2 rows containing missing values.\n"
     ]
    }
   ],
   "source": [
    "fig_1 = (\n",
    "    ggplot(meta2, aes(x = \"year_processed\")) + \n",
    "    geom_histogram(bins = 75) +\n",
    "    xlim(1946, 2020) +\n",
    "    labs(x = \"Publication Year\", y = \"# Books\") +\n",
    "    theme_linedraw()\n",
    ")\n",
    "ggsave(fig_1, \"../fig_1.jpg\", width = 5, height = 3.6, dpi = 500)"
   ]
  },
  {
   "cell_type": "code",
   "execution_count": 19,
   "id": "5493136b-9b7e-4d09-a226-f07688417bca",
   "metadata": {},
   "outputs": [
    {
     "name": "stderr",
     "output_type": "stream",
     "text": [
      "/Users/likai/opt/anaconda3/lib/python3.9/site-packages/plotnine/layer.py:333: PlotnineWarning: stat_bin : Removed 967 rows containing non-finite values.\n",
      "/Users/likai/opt/anaconda3/lib/python3.9/site-packages/plotnine/stats/binning.py:152: FutureWarning: The provided callable <function sum at 0x7f7c8877c5e0> is currently using DataFrameGroupBy.sum. In a future version of pandas, the provided callable will be used directly. To keep current behavior pass the string \"sum\" instead.\n",
      "/Users/likai/opt/anaconda3/lib/python3.9/site-packages/plotnine/layer.py:411: PlotnineWarning: geom_histogram : Removed 2 rows containing missing values.\n"
     ]
    },
    {
     "data": {
      "image/png": "[encoded data removed]",
      "text/plain": [
       "<Figure size 640x480 with 1 Axes>"
      ]
     },
     "metadata": {},
     "output_type": "display_data"
    },
    {
     "data": {
      "text/plain": [
       "<ggplot: (8760854846115)>"
      ]
     },
     "execution_count": 19,
     "metadata": {},
     "output_type": "execute_result"
    }
   ],
   "source": [
    "fig_1"
   ]
  },
  {
   "cell_type": "markdown",
   "id": "724b9cb8-9dc0-49b9-8516-01dc2ef0370c",
   "metadata": {},
   "source": [
    "#### 2.2 Table 1: Region summary"
   ]
  },
  {
   "cell_type": "code",
   "execution_count": 46,
   "id": "a87f328f-a434-47b3-8c02-67e6db0e9dcb",
   "metadata": {},
   "outputs": [],
   "source": [
    "region_summary = meta2b.loc[meta2b.year_processed > 1945].mapped_country1.value_counts().reset_index()\n",
    "region_summary = region_summary.loc[region_summary['count'] > 1000]\n",
    "region_summary['total'] = 20786\n",
    "region_summary['share'] = region_summary['count'] / region_summary['total']\n",
    "region_summary.to_csv(\"../table_1_region_summary.csv\")"
   ]
  },
  {
   "cell_type": "code",
   "execution_count": 47,
   "id": "c26c2617-5bc8-4fde-ab8e-550e125c12a8",
   "metadata": {},
   "outputs": [
    {
     "data": {
      "text/html": [
       "<div>\n",
       "<style scoped>\n",
       "    .dataframe tbody tr th:only-of-type {\n",
       "        vertical-align: middle;\n",
       "    }\n",
       "\n",
       "    .dataframe tbody tr th {\n",
       "        vertical-align: top;\n",
       "    }\n",
       "\n",
       "    .dataframe thead th {\n",
       "        text-align: right;\n",
       "    }\n",
       "</style>\n",
       "<table border=\"1\" class=\"dataframe\">\n",
       "  <thead>\n",
       "    <tr style=\"text-align: right;\">\n",
       "      <th></th>\n",
       "      <th>mapped_country1</th>\n",
       "      <th>count</th>\n",
       "      <th>total</th>\n",
       "      <th>share</th>\n",
       "    </tr>\n",
       "  </thead>\n",
       "  <tbody>\n",
       "    <tr>\n",
       "      <th>0</th>\n",
       "      <td>Greater-China</td>\n",
       "      <td>15624</td>\n",
       "      <td>20786</td>\n",
       "      <td>0.751660</td>\n",
       "    </tr>\n",
       "    <tr>\n",
       "      <th>1</th>\n",
       "      <td>US</td>\n",
       "      <td>1750</td>\n",
       "      <td>20786</td>\n",
       "      <td>0.084191</td>\n",
       "    </tr>\n",
       "    <tr>\n",
       "      <th>2</th>\n",
       "      <td>Europe</td>\n",
       "      <td>1190</td>\n",
       "      <td>20786</td>\n",
       "      <td>0.057250</td>\n",
       "    </tr>\n",
       "  </tbody>\n",
       "</table>\n",
       "</div>"
      ],
      "text/plain": [
       "  mapped_country1  count  total     share\n",
       "0   Greater-China  15624  20786  0.751660\n",
       "1              US   1750  20786  0.084191\n",
       "2          Europe   1190  20786  0.057250"
      ]
     },
     "execution_count": 47,
     "metadata": {},
     "output_type": "execute_result"
    }
   ],
   "source": [
    "region_summary.head()"
   ]
  },
  {
   "cell_type": "markdown",
   "id": "a1331001-453b-4d21-b7f6-ec800e0bfe5d",
   "metadata": {},
   "source": [
    "#### 2.3 Table 2"
   ]
  },
  {
   "cell_type": "code",
   "execution_count": 48,
   "id": "55443ba1-5302-4904-a756-ce54acd88821",
   "metadata": {},
   "outputs": [
    {
     "data": {
      "text/html": [
       "<div>\n",
       "<style scoped>\n",
       "    .dataframe tbody tr th:only-of-type {\n",
       "        vertical-align: middle;\n",
       "    }\n",
       "\n",
       "    .dataframe tbody tr th {\n",
       "        vertical-align: top;\n",
       "    }\n",
       "\n",
       "    .dataframe thead th {\n",
       "        text-align: right;\n",
       "    }\n",
       "</style>\n",
       "<table border=\"1\" class=\"dataframe\">\n",
       "  <thead>\n",
       "    <tr style=\"text-align: right;\">\n",
       "      <th></th>\n",
       "      <th>region</th>\n",
       "      <th>language</th>\n",
       "      <th>count</th>\n",
       "    </tr>\n",
       "  </thead>\n",
       "  <tbody>\n",
       "    <tr>\n",
       "      <th>0</th>\n",
       "      <td>Europe</td>\n",
       "      <td>Chinese</td>\n",
       "      <td>1</td>\n",
       "    </tr>\n",
       "    <tr>\n",
       "      <th>1</th>\n",
       "      <td>Europe</td>\n",
       "      <td>English</td>\n",
       "      <td>516</td>\n",
       "    </tr>\n",
       "    <tr>\n",
       "      <th>2</th>\n",
       "      <td>Europe</td>\n",
       "      <td>Others</td>\n",
       "      <td>673</td>\n",
       "    </tr>\n",
       "    <tr>\n",
       "      <th>3</th>\n",
       "      <td>Greater-China</td>\n",
       "      <td>Chinese</td>\n",
       "      <td>15380</td>\n",
       "    </tr>\n",
       "    <tr>\n",
       "      <th>4</th>\n",
       "      <td>Greater-China</td>\n",
       "      <td>English</td>\n",
       "      <td>194</td>\n",
       "    </tr>\n",
       "  </tbody>\n",
       "</table>\n",
       "</div>"
      ],
      "text/plain": [
       "          region language  count\n",
       "0         Europe  Chinese      1\n",
       "1         Europe  English    516\n",
       "2         Europe   Others    673\n",
       "3  Greater-China  Chinese  15380\n",
       "4  Greater-China  English    194"
      ]
     },
     "execution_count": 48,
     "metadata": {},
     "output_type": "execute_result"
    }
   ],
   "source": [
    "region_summary = meta2b.loc[(meta2b.mapped_country.isin(['China', \"US\", \"Taiwan\", \"Europe\"])) & (meta2b.year_processed > 1945)].groupby(['mapped_country1', 'language_mapped']).size().reset_index()\n",
    "region_summary.columns = ['region', 'language', 'count']\n",
    "region_summary.head()"
   ]
  },
  {
   "cell_type": "code",
   "execution_count": 49,
   "id": "4bfea509-4366-4cf1-a088-00d7b7c87000",
   "metadata": {},
   "outputs": [],
   "source": [
    "for i in range(len(region_summary.index)):\n",
    "    region = region_summary.loc[i, 'region']\n",
    "    region_summary.loc[i, 'total'] = sum(region_summary.loc[region_summary.region == region, 'count'])\n",
    "\n",
    "region_summary['share'] = region_summary['count'] / region_summary['total']"
   ]
  },
  {
   "cell_type": "code",
   "execution_count": 50,
   "id": "6b216a3f-b1f2-47f1-8196-1d5bc522c190",
   "metadata": {},
   "outputs": [],
   "source": [
    "region_summary.to_csv(\"../table_2_region_language_summary.csv\")"
   ]
  },
  {
   "cell_type": "markdown",
   "id": "9dce87f2-911f-4118-9ac1-50afc41b77b7",
   "metadata": {},
   "source": [
    "#### 2.2 Figure 2: Chinese / All by region"
   ]
  },
  {
   "cell_type": "code",
   "execution_count": 51,
   "id": "485b64b5-645c-4068-bc01-9b42f0056ffc",
   "metadata": {},
   "outputs": [],
   "source": [
    "metab = meta.merge(location_mapping[['code', 'mapped_country', 'mapped_country1']], how = \"left\", left_on = \"place\", right_on = \"code\")"
   ]
  },
  {
   "cell_type": "code",
   "execution_count": 52,
   "id": "7a8fc75f-e902-45ef-8cd8-d590ee19d452",
   "metadata": {},
   "outputs": [],
   "source": [
    "count_sum_compare1 = pd.DataFrame()\n",
    "\n",
    "for i in range(1946, 2020):\n",
    "    sub1 = meta2.loc[meta2.year_processed == i]\n",
    "    sub2 = meta.loc[meta.year_processed == i]\n",
    "    count_sum_compare1 = pd.concat([\n",
    "        count_sum_compare1,\n",
    "        pd.DataFrame(\n",
    "            {\"year\":i,\n",
    "            \"count_catalog\":len(sub2.index),\n",
    "            \"count_history\":len(sub1.index),}, index = [0]\n",
    "        )\n",
    "    ])\n",
    "    \n",
    "count_sum_compare1['ratio'] = count_sum_compare1['count_history'] / count_sum_compare1['count_catalog']"
   ]
  },
  {
   "cell_type": "code",
   "execution_count": 71,
   "id": "309be0a0-ab62-4a2b-839a-f2e8d5083556",
   "metadata": {},
   "outputs": [],
   "source": [
    "count_sum_compare2 = pd.DataFrame()\n",
    "\n",
    "for location in [\"US\", \"Greater-China\", \"Europe\"]:\n",
    "    metab1 = metab.loc[metab['mapped_country1'] == location]\n",
    "    meta2b1 =meta2b.loc[meta2b['mapped_country1'] == location]\n",
    "\n",
    "    for i in range(1946, 2020):\n",
    "        sub1 = metab1.loc[metab1.year_processed == i]\n",
    "        sub2 = meta2b1.loc[meta2b1.year_processed == i]\n",
    "        count_sum_compare2 = pd.concat([\n",
    "            count_sum_compare2,\n",
    "            pd.DataFrame(\n",
    "                {\"year\":i,\n",
    "                 \"mapped_country1\":location,\n",
    "                \"count_catalog_us\":len(sub1.index),\n",
    "                \"count_history_us\":len(sub2.index),}, index = [0]\n",
    "                )\n",
    "    ])\n",
    "    \n",
    "count_sum_compare2['ratio'] = count_sum_compare2['count_history_us'] / count_sum_compare2['count_catalog_us']"
   ]
  },
  {
   "cell_type": "code",
   "execution_count": 72,
   "id": "33aa2933-c0a3-4a48-b387-5bea0bf15fb1",
   "metadata": {},
   "outputs": [],
   "source": [
    "count_sum_compare1['mapped_country1'] = \"All Countries\"\n",
    "\n",
    "count_sum_compare1 = count_sum_compare1[['year', 'mapped_country1', 'ratio']]\n",
    "count_sum_compare2 = count_sum_compare2[['year', 'mapped_country1', 'ratio']]\n",
    "\n",
    "count_sum_compare2a = pd.concat([count_sum_compare1, count_sum_compare2])"
   ]
  },
  {
   "cell_type": "code",
   "execution_count": 73,
   "id": "226d28b0-19d2-4e83-8a50-d5463a09abbc",
   "metadata": {},
   "outputs": [
    {
     "name": "stderr",
     "output_type": "stream",
     "text": [
      "/var/folders/f3/ps2lxzsn0xd88g38v89kxplc0000gn/T/ipykernel_5383/651547873.py:5: SettingWithCopyWarning: \n",
      "A value is trying to be set on a copy of a slice from a DataFrame.\n",
      "Try using .loc[row_indexer,col_indexer] = value instead\n",
      "\n",
      "See the caveats in the documentation: https://pandas.pydata.org/pandas-docs/stable/user_guide/indexing.html#returning-a-view-versus-a-copy\n",
      "/var/folders/f3/ps2lxzsn0xd88g38v89kxplc0000gn/T/ipykernel_5383/651547873.py:5: SettingWithCopyWarning: \n",
      "A value is trying to be set on a copy of a slice from a DataFrame.\n",
      "Try using .loc[row_indexer,col_indexer] = value instead\n",
      "\n",
      "See the caveats in the documentation: https://pandas.pydata.org/pandas-docs/stable/user_guide/indexing.html#returning-a-view-versus-a-copy\n",
      "/var/folders/f3/ps2lxzsn0xd88g38v89kxplc0000gn/T/ipykernel_5383/651547873.py:5: SettingWithCopyWarning: \n",
      "A value is trying to be set on a copy of a slice from a DataFrame.\n",
      "Try using .loc[row_indexer,col_indexer] = value instead\n",
      "\n",
      "See the caveats in the documentation: https://pandas.pydata.org/pandas-docs/stable/user_guide/indexing.html#returning-a-view-versus-a-copy\n",
      "/var/folders/f3/ps2lxzsn0xd88g38v89kxplc0000gn/T/ipykernel_5383/651547873.py:5: SettingWithCopyWarning: \n",
      "A value is trying to be set on a copy of a slice from a DataFrame.\n",
      "Try using .loc[row_indexer,col_indexer] = value instead\n",
      "\n",
      "See the caveats in the documentation: https://pandas.pydata.org/pandas-docs/stable/user_guide/indexing.html#returning-a-view-versus-a-copy\n"
     ]
    },
    {
     "data": {
      "text/html": [
       "<div>\n",
       "<style scoped>\n",
       "    .dataframe tbody tr th:only-of-type {\n",
       "        vertical-align: middle;\n",
       "    }\n",
       "\n",
       "    .dataframe tbody tr th {\n",
       "        vertical-align: top;\n",
       "    }\n",
       "\n",
       "    .dataframe thead th {\n",
       "        text-align: right;\n",
       "    }\n",
       "</style>\n",
       "<table border=\"1\" class=\"dataframe\">\n",
       "  <thead>\n",
       "    <tr style=\"text-align: right;\">\n",
       "      <th></th>\n",
       "      <th>year</th>\n",
       "      <th>mapped_country1</th>\n",
       "      <th>ratio</th>\n",
       "      <th>mean_ratio</th>\n",
       "    </tr>\n",
       "  </thead>\n",
       "  <tbody>\n",
       "    <tr>\n",
       "      <th>0</th>\n",
       "      <td>1946</td>\n",
       "      <td>All Countries</td>\n",
       "      <td>0.000567</td>\n",
       "      <td>NaN</td>\n",
       "    </tr>\n",
       "    <tr>\n",
       "      <th>0</th>\n",
       "      <td>1947</td>\n",
       "      <td>All Countries</td>\n",
       "      <td>0.000602</td>\n",
       "      <td>0.000571</td>\n",
       "    </tr>\n",
       "    <tr>\n",
       "      <th>0</th>\n",
       "      <td>1948</td>\n",
       "      <td>All Countries</td>\n",
       "      <td>0.000545</td>\n",
       "      <td>0.000515</td>\n",
       "    </tr>\n",
       "    <tr>\n",
       "      <th>0</th>\n",
       "      <td>1949</td>\n",
       "      <td>All Countries</td>\n",
       "      <td>0.000399</td>\n",
       "      <td>0.000495</td>\n",
       "    </tr>\n",
       "    <tr>\n",
       "      <th>0</th>\n",
       "      <td>1950</td>\n",
       "      <td>All Countries</td>\n",
       "      <td>0.000542</td>\n",
       "      <td>0.000523</td>\n",
       "    </tr>\n",
       "  </tbody>\n",
       "</table>\n",
       "</div>"
      ],
      "text/plain": [
       "   year mapped_country1     ratio  mean_ratio\n",
       "0  1946   All Countries  0.000567         NaN\n",
       "0  1947   All Countries  0.000602    0.000571\n",
       "0  1948   All Countries  0.000545    0.000515\n",
       "0  1949   All Countries  0.000399    0.000495\n",
       "0  1950   All Countries  0.000542    0.000523"
      ]
     },
     "execution_count": 73,
     "metadata": {},
     "output_type": "execute_result"
    }
   ],
   "source": [
    "count_sum_compare3 = pd.DataFrame()\n",
    "\n",
    "for location in [\"All Countries\", \"US\", \"Greater-China\", \"Europe\"]:\n",
    "    sub = count_sum_compare2a.loc[count_sum_compare2a.mapped_country1 == location]\n",
    "    sub[\"mean_ratio\"] = sub[\"ratio\"].rolling(window=3, center=True).mean()\n",
    "    count_sum_compare3 = pd.concat([count_sum_compare3, sub])\n",
    "\n",
    "count_sum_compare3.head()"
   ]
  },
  {
   "cell_type": "code",
   "execution_count": 74,
   "id": "48795fa7-baab-4b1b-b36a-d2c3472e3931",
   "metadata": {},
   "outputs": [
    {
     "name": "stderr",
     "output_type": "stream",
     "text": [
      "/Users/likai/opt/anaconda3/lib/python3.9/site-packages/plotnine/ggplot.py:718: PlotnineWarning: Saving 5.5 x 4 in image.\n",
      "/Users/likai/opt/anaconda3/lib/python3.9/site-packages/plotnine/ggplot.py:719: PlotnineWarning: Filename: ../f_2.jpg\n",
      "/Users/likai/opt/anaconda3/lib/python3.9/site-packages/plotnine/utils.py:635: FutureWarning: The default of observed=False is deprecated and will be changed to True in a future version of pandas. Pass observed=False to retain current behavior or observed=True to adopt the future default and silence this warning.\n",
      "/Users/likai/opt/anaconda3/lib/python3.9/site-packages/plotnine/facets/facet.py:440: PlotnineWarning: If you need more space for the x-axis tick text use ... + theme(subplots_adjust={'wspace': 0.25}). Choose an appropriate value for 'wspace'.\n",
      "/Users/likai/opt/anaconda3/lib/python3.9/site-packages/plotnine/geoms/geom_path.py:75: PlotnineWarning: geom_path: Removed 1 rows containing missing values.\n",
      "/Users/likai/opt/anaconda3/lib/python3.9/site-packages/plotnine/geoms/geom.py:231: FutureWarning: The default of observed=False is deprecated and will be changed to True in a future version of pandas. Pass observed=False to retain current behavior or observed=True to adopt the future default and silence this warning.\n"
     ]
    }
   ],
   "source": [
    "count_sum_compare3['mapped_country1'] = count_sum_compare3['mapped_country1'].replace('Greater-China', 'Greater China')\n",
    "count_sum_compare3['mapped_country1'] = count_sum_compare3['mapped_country1'].replace('US', 'U.S.')\n",
    "count_sum_compare3['mapped_country1'] = pd.Categorical(count_sum_compare3['mapped_country1'], \n",
    "                                                       categories=['All Countries', 'U.S.', 'Greater China', 'Europe'])\n",
    "\n",
    "\n",
    "f_2 = (\n",
    "    ggplot(count_sum_compare3.loc[count_sum_compare3.year < 2018], aes(x = \"year\")) +\n",
    "    geom_line(aes(y = \"mean_ratio\")) +\n",
    "    labs(x = \"Publication Year\", y = \"# Chinese History Books \\n / # All Books\") +\n",
    "    facet_wrap(\" ~ mapped_country1\", scales = \"free_y\", nrow = 2)  +\n",
    "    theme_linedraw() +\n",
    "    theme(panel_spacing_x = 0.7)\n",
    ")\n",
    "\n",
    "ggsave(f_2, \"../f_2.jpg\", width = 5.5, height = 4, dpi = 500)"
   ]
  },
  {
   "cell_type": "code",
   "execution_count": 75,
   "id": "323f2e84-4bb0-448f-aba7-bc1fb12692b3",
   "metadata": {},
   "outputs": [
    {
     "name": "stderr",
     "output_type": "stream",
     "text": [
      "/Users/likai/opt/anaconda3/lib/python3.9/site-packages/plotnine/utils.py:635: FutureWarning: The default of observed=False is deprecated and will be changed to True in a future version of pandas. Pass observed=False to retain current behavior or observed=True to adopt the future default and silence this warning.\n",
      "/Users/likai/opt/anaconda3/lib/python3.9/site-packages/plotnine/facets/facet.py:440: PlotnineWarning: If you need more space for the x-axis tick text use ... + theme(subplots_adjust={'wspace': 0.25}). Choose an appropriate value for 'wspace'.\n",
      "/Users/likai/opt/anaconda3/lib/python3.9/site-packages/plotnine/geoms/geom_path.py:75: PlotnineWarning: geom_path: Removed 1 rows containing missing values.\n",
      "/Users/likai/opt/anaconda3/lib/python3.9/site-packages/plotnine/geoms/geom.py:231: FutureWarning: The default of observed=False is deprecated and will be changed to True in a future version of pandas. Pass observed=False to retain current behavior or observed=True to adopt the future default and silence this warning.\n"
     ]
    },
    {
     "data": {
      "image/png": "[encoded data removed]",
      "text/plain": [
       "<Figure size 640x480 with 4 Axes>"
      ]
     },
     "metadata": {},
     "output_type": "display_data"
    },
    {
     "data": {
      "text/plain": [
       "<ggplot: (8760860056601)>"
      ]
     },
     "execution_count": 75,
     "metadata": {},
     "output_type": "execute_result"
    }
   ],
   "source": [
    "f_2"
   ]
  },
  {
   "cell_type": "markdown",
   "id": "285f3f9c-c373-4880-9e19-edb73bef2323",
   "metadata": {},
   "source": [
    "#### 2.3 Figure 3: Total books by region"
   ]
  },
  {
   "cell_type": "code",
   "execution_count": 76,
   "id": "c4c28360-1bf3-4fd4-89dc-250226410c02",
   "metadata": {},
   "outputs": [
    {
     "data": {
      "text/plain": [
       "mapped_country1\n",
       "Europe    1347\n",
       "Name: count, dtype: int64"
      ]
     },
     "execution_count": 76,
     "metadata": {},
     "output_type": "execute_result"
    }
   ],
   "source": [
    "meta2b1.mapped_country1.value_counts()"
   ]
  },
  {
   "cell_type": "code",
   "execution_count": 77,
   "id": "1998bab4-d434-479c-ad8b-231e093999f1",
   "metadata": {},
   "outputs": [],
   "source": [
    "meta2b1 = meta2b.loc[(meta2b.year_processed > 1945) & (meta2b.year_processed < 2019)]\n",
    "\n",
    "meta2b_us = meta2b1.loc[meta2b1.mapped_country1 == \"US\"]\n",
    "meta2b_china = meta2b1.loc[meta2b1.mapped_country1 == \"Greater-China\"]\n",
    "meta2b_eu = meta2b1.loc[meta2b1.mapped_country1 == \"Europe\"]"
   ]
  },
  {
   "cell_type": "code",
   "execution_count": 78,
   "id": "0b6a8f3c-7710-4a14-94d7-4a4ba7203fd4",
   "metadata": {},
   "outputs": [],
   "source": [
    "pub_sum_1 = meta2b1.groupby('year_processed').size().reset_index()\n",
    "pub_sum_2 = meta2b_us.groupby('year_processed').size().reset_index()\n",
    "pub_sum_3 = meta2b_china.groupby('year_processed').size().reset_index()\n",
    "pub_sum_4 = meta2b_eu.groupby('year_processed').size().reset_index()\n",
    "\n",
    "pub_sum_1.columns = ['year', 'total']\n",
    "pub_sum_2.columns = ['year', 'count']\n",
    "pub_sum_3.columns = ['year', 'count']\n",
    "pub_sum_4.columns = ['year', 'count']\n",
    "\n",
    "pub_sum_2['category'] = \"US\"\n",
    "pub_sum_3['category'] = \"Greater-China\"\n",
    "pub_sum_4['category'] = \"EU\"\n",
    "\n",
    "pub_sum_final = pd.concat([pub_sum_2, pub_sum_3, pub_sum_4])"
   ]
  },
  {
   "cell_type": "code",
   "execution_count": 79,
   "id": "f65e014b-f15c-45fd-b415-d174e6db131e",
   "metadata": {},
   "outputs": [
    {
     "data": {
      "text/plain": [
       "category\n",
       "Greater-China    73\n",
       "EU               73\n",
       "US               72\n",
       "Name: count, dtype: int64"
      ]
     },
     "execution_count": 79,
     "metadata": {},
     "output_type": "execute_result"
    }
   ],
   "source": [
    "pub_sum_final.category.value_counts()"
   ]
  },
  {
   "cell_type": "code",
   "execution_count": 80,
   "id": "79c1bc87-6f21-4041-a892-fde0bc3f3253",
   "metadata": {},
   "outputs": [
    {
     "name": "stderr",
     "output_type": "stream",
     "text": [
      "/var/folders/f3/ps2lxzsn0xd88g38v89kxplc0000gn/T/ipykernel_5383/1785417631.py:5: SettingWithCopyWarning: \n",
      "A value is trying to be set on a copy of a slice from a DataFrame.\n",
      "Try using .loc[row_indexer,col_indexer] = value instead\n",
      "\n",
      "See the caveats in the documentation: https://pandas.pydata.org/pandas-docs/stable/user_guide/indexing.html#returning-a-view-versus-a-copy\n",
      "/var/folders/f3/ps2lxzsn0xd88g38v89kxplc0000gn/T/ipykernel_5383/1785417631.py:5: SettingWithCopyWarning: \n",
      "A value is trying to be set on a copy of a slice from a DataFrame.\n",
      "Try using .loc[row_indexer,col_indexer] = value instead\n",
      "\n",
      "See the caveats in the documentation: https://pandas.pydata.org/pandas-docs/stable/user_guide/indexing.html#returning-a-view-versus-a-copy\n",
      "/var/folders/f3/ps2lxzsn0xd88g38v89kxplc0000gn/T/ipykernel_5383/1785417631.py:5: SettingWithCopyWarning: \n",
      "A value is trying to be set on a copy of a slice from a DataFrame.\n",
      "Try using .loc[row_indexer,col_indexer] = value instead\n",
      "\n",
      "See the caveats in the documentation: https://pandas.pydata.org/pandas-docs/stable/user_guide/indexing.html#returning-a-view-versus-a-copy\n"
     ]
    },
    {
     "data": {
      "text/html": [
       "<div>\n",
       "<style scoped>\n",
       "    .dataframe tbody tr th:only-of-type {\n",
       "        vertical-align: middle;\n",
       "    }\n",
       "\n",
       "    .dataframe tbody tr th {\n",
       "        vertical-align: top;\n",
       "    }\n",
       "\n",
       "    .dataframe thead th {\n",
       "        text-align: right;\n",
       "    }\n",
       "</style>\n",
       "<table border=\"1\" class=\"dataframe\">\n",
       "  <thead>\n",
       "    <tr style=\"text-align: right;\">\n",
       "      <th></th>\n",
       "      <th>year</th>\n",
       "      <th>count</th>\n",
       "      <th>category</th>\n",
       "      <th>count_new</th>\n",
       "    </tr>\n",
       "  </thead>\n",
       "  <tbody>\n",
       "    <tr>\n",
       "      <th>68</th>\n",
       "      <td>2014</td>\n",
       "      <td>22</td>\n",
       "      <td>EU</td>\n",
       "      <td>23.666667</td>\n",
       "    </tr>\n",
       "    <tr>\n",
       "      <th>69</th>\n",
       "      <td>2015</td>\n",
       "      <td>27</td>\n",
       "      <td>EU</td>\n",
       "      <td>32.000000</td>\n",
       "    </tr>\n",
       "    <tr>\n",
       "      <th>70</th>\n",
       "      <td>2016</td>\n",
       "      <td>47</td>\n",
       "      <td>EU</td>\n",
       "      <td>34.000000</td>\n",
       "    </tr>\n",
       "    <tr>\n",
       "      <th>71</th>\n",
       "      <td>2017</td>\n",
       "      <td>28</td>\n",
       "      <td>EU</td>\n",
       "      <td>32.333333</td>\n",
       "    </tr>\n",
       "    <tr>\n",
       "      <th>72</th>\n",
       "      <td>2018</td>\n",
       "      <td>22</td>\n",
       "      <td>EU</td>\n",
       "      <td>NaN</td>\n",
       "    </tr>\n",
       "  </tbody>\n",
       "</table>\n",
       "</div>"
      ],
      "text/plain": [
       "    year  count category  count_new\n",
       "68  2014     22       EU  23.666667\n",
       "69  2015     27       EU  32.000000\n",
       "70  2016     47       EU  34.000000\n",
       "71  2017     28       EU  32.333333\n",
       "72  2018     22       EU        NaN"
      ]
     },
     "execution_count": 80,
     "metadata": {},
     "output_type": "execute_result"
    }
   ],
   "source": [
    "pub_sum_final1 = pd.DataFrame()\n",
    "\n",
    "for location in [\"US\", \"Greater-China\", \"EU\"]:\n",
    "    sub = pub_sum_final.loc[pub_sum_final.category == location]\n",
    "    sub[\"count_new\"] = sub[\"count\"].rolling(window=3, center=True).mean() \n",
    "    pub_sum_final1 = pd.concat([pub_sum_final1, sub])\n",
    "\n",
    "pub_sum_final1.tail()"
   ]
  },
  {
   "cell_type": "code",
   "execution_count": 81,
   "id": "a3d6a32e-f038-4cef-b75b-6ce61bbeb33b",
   "metadata": {},
   "outputs": [
    {
     "name": "stderr",
     "output_type": "stream",
     "text": [
      "/Users/likai/opt/anaconda3/lib/python3.9/site-packages/plotnine/ggplot.py:718: PlotnineWarning: Saving 5.5 x 4 in image.\n",
      "/Users/likai/opt/anaconda3/lib/python3.9/site-packages/plotnine/ggplot.py:719: PlotnineWarning: Filename: ../f_3.jpg\n"
     ]
    }
   ],
   "source": [
    "pub_sum_final1['category'] = pub_sum_final1['category'].replace('Greater-China', 'Greater China')\n",
    "pub_sum_final1['category'] = pub_sum_final1['category'].replace('EU', 'Europe')\n",
    "pub_sum_final1['category'] = pub_sum_final1['category'].replace('US', 'U.S.')\n",
    "pub_sum_final1['category'] = pd.Categorical(pub_sum_final1['category'], \n",
    "                                                   categories=['U.S.', 'Greater China', 'Europe'])\n",
    "\n",
    "\n",
    "f_3 = (\n",
    "    ggplot(pub_sum_final1.loc[(pub_sum_final1.year > 1946) & (pub_sum_final1.year < 2018)], \n",
    "           aes(x = \"year\", y = \"count_new\", group = \"category\", color = \"category\")) +\n",
    "    geom_line() +\n",
    "    scale_y_log10() +\n",
    "    labs(x = \"Publication Year\", y = \"Books (Three-Year Mean Value)\") +\n",
    "    scale_color_discrete(name = \"Region\") +\n",
    "    theme_linedraw()\n",
    ")\n",
    "ggsave(f_3, \"../f_3.jpg\", width = 5.5, height = 4, dpi = 500)"
   ]
  },
  {
   "cell_type": "code",
   "execution_count": 82,
   "id": "98ff0efe-7f04-45de-8f86-d870d5dadbad",
   "metadata": {},
   "outputs": [
    {
     "data": {
      "image/png": "[encoded data removed]",
      "text/plain": [
       "<Figure size 640x480 with 1 Axes>"
      ]
     },
     "metadata": {},
     "output_type": "display_data"
    },
    {
     "data": {
      "text/plain": [
       "<ggplot: (8759954628045)>"
      ]
     },
     "execution_count": 82,
     "metadata": {},
     "output_type": "execute_result"
    }
   ],
   "source": [
    "f_3"
   ]
  },
  {
   "cell_type": "markdown",
   "id": "9be19e5e-f91f-4c04-acdf-446ae5618561",
   "metadata": {},
   "source": [
    "#### 2.4 Table 3"
   ]
  },
  {
   "cell_type": "code",
   "execution_count": 100,
   "id": "01e625a6-fcc4-4e83-8660-5e6540d4d395",
   "metadata": {},
   "outputs": [
    {
     "data": {
      "text/html": [
       "<div>\n",
       "<style scoped>\n",
       "    .dataframe tbody tr th:only-of-type {\n",
       "        vertical-align: middle;\n",
       "    }\n",
       "\n",
       "    .dataframe tbody tr th {\n",
       "        vertical-align: top;\n",
       "    }\n",
       "\n",
       "    .dataframe thead th {\n",
       "        text-align: right;\n",
       "    }\n",
       "</style>\n",
       "<table border=\"1\" class=\"dataframe\">\n",
       "  <thead>\n",
       "    <tr style=\"text-align: right;\">\n",
       "      <th></th>\n",
       "      <th>Unnamed: 0.1</th>\n",
       "      <th>Unnamed: 0</th>\n",
       "      <th>id</th>\n",
       "      <th>leader_6</th>\n",
       "      <th>leader_7</th>\n",
       "      <th>leader_17</th>\n",
       "      <th>leader_18</th>\n",
       "      <th>edit_date</th>\n",
       "      <th>file_date</th>\n",
       "      <th>pub_code</th>\n",
       "      <th>...</th>\n",
       "      <th>begin_year_manual</th>\n",
       "      <th>end_year_manual</th>\n",
       "      <th>dynasty_grouped</th>\n",
       "      <th>dynasty_grouped_multiple</th>\n",
       "      <th>long_term_grouped</th>\n",
       "      <th>long_term_grouped_multiple</th>\n",
       "      <th>note</th>\n",
       "      <th>Items_y</th>\n",
       "      <th>total_count</th>\n",
       "      <th>dynasty_weight_y</th>\n",
       "    </tr>\n",
       "  </thead>\n",
       "  <tbody>\n",
       "    <tr>\n",
       "      <th>0</th>\n",
       "      <td>1440</td>\n",
       "      <td>1440</td>\n",
       "      <td>a84175412</td>\n",
       "      <td>a</td>\n",
       "      <td>m</td>\n",
       "      <td></td>\n",
       "      <td>a</td>\n",
       "      <td>20070827</td>\n",
       "      <td>850510</td>\n",
       "      <td>s</td>\n",
       "      <td>...</td>\n",
       "      <td>1861</td>\n",
       "      <td>1912</td>\n",
       "      <td>Qing</td>\n",
       "      <td>NaN</td>\n",
       "      <td>Ming-Qing</td>\n",
       "      <td>NaN</td>\n",
       "      <td>NaN</td>\n",
       "      <td>Ming-Qing</td>\n",
       "      <td>1.0</td>\n",
       "      <td>1.0</td>\n",
       "    </tr>\n",
       "    <tr>\n",
       "      <th>1</th>\n",
       "      <td>1823</td>\n",
       "      <td>1823</td>\n",
       "      <td>a84175934</td>\n",
       "      <td>a</td>\n",
       "      <td>m</td>\n",
       "      <td></td>\n",
       "      <td>a</td>\n",
       "      <td>20010317</td>\n",
       "      <td>840620</td>\n",
       "      <td>s</td>\n",
       "      <td>...</td>\n",
       "      <td>1911</td>\n",
       "      <td>1912</td>\n",
       "      <td>Qing</td>\n",
       "      <td>NaN</td>\n",
       "      <td>Ming-Qing</td>\n",
       "      <td>NaN</td>\n",
       "      <td>NaN</td>\n",
       "      <td>Ming-Qing</td>\n",
       "      <td>1.0</td>\n",
       "      <td>1.0</td>\n",
       "    </tr>\n",
       "    <tr>\n",
       "      <th>4</th>\n",
       "      <td>2168</td>\n",
       "      <td>2168</td>\n",
       "      <td>a84176357</td>\n",
       "      <td>a</td>\n",
       "      <td>m</td>\n",
       "      <td></td>\n",
       "      <td>a</td>\n",
       "      <td>20070825</td>\n",
       "      <td>841129</td>\n",
       "      <td>s</td>\n",
       "      <td>...</td>\n",
       "      <td>1976</td>\n",
       "      <td>2002</td>\n",
       "      <td>People's Republic</td>\n",
       "      <td>NaN</td>\n",
       "      <td>Twentieth Century</td>\n",
       "      <td>NaN</td>\n",
       "      <td>The 21st century is included</td>\n",
       "      <td>Twentieth Century</td>\n",
       "      <td>1.0</td>\n",
       "      <td>1.0</td>\n",
       "    </tr>\n",
       "    <tr>\n",
       "      <th>6</th>\n",
       "      <td>4285</td>\n",
       "      <td>4285</td>\n",
       "      <td>a84178814</td>\n",
       "      <td>a</td>\n",
       "      <td>m</td>\n",
       "      <td></td>\n",
       "      <td>a</td>\n",
       "      <td>20130412</td>\n",
       "      <td>840627</td>\n",
       "      <td>s</td>\n",
       "      <td>...</td>\n",
       "      <td>1949</td>\n",
       "      <td>indefinite</td>\n",
       "      <td>People's Republic</td>\n",
       "      <td>NaN</td>\n",
       "      <td>Twentieth Century</td>\n",
       "      <td>NaN</td>\n",
       "      <td>The 21st century is included</td>\n",
       "      <td>Twentieth Century</td>\n",
       "      <td>1.0</td>\n",
       "      <td>1.0</td>\n",
       "    </tr>\n",
       "    <tr>\n",
       "      <th>7</th>\n",
       "      <td>4582</td>\n",
       "      <td>4582</td>\n",
       "      <td>a84179135</td>\n",
       "      <td>a</td>\n",
       "      <td>m</td>\n",
       "      <td></td>\n",
       "      <td>a</td>\n",
       "      <td>20080619</td>\n",
       "      <td>880106</td>\n",
       "      <td>s</td>\n",
       "      <td>...</td>\n",
       "      <td>1913</td>\n",
       "      <td>1913</td>\n",
       "      <td>Republic</td>\n",
       "      <td>NaN</td>\n",
       "      <td>Twentieth Century</td>\n",
       "      <td>NaN</td>\n",
       "      <td>NaN</td>\n",
       "      <td>Twentieth Century</td>\n",
       "      <td>1.0</td>\n",
       "      <td>1.0</td>\n",
       "    </tr>\n",
       "  </tbody>\n",
       "</table>\n",
       "<p>5 rows × 64 columns</p>\n",
       "</div>"
      ],
      "text/plain": [
       "   Unnamed: 0.1  Unnamed: 0         id leader_6 leader_7 leader_17 leader_18  \\\n",
       "0          1440        1440  a84175412        a        m                   a   \n",
       "1          1823        1823  a84175934        a        m                   a   \n",
       "4          2168        2168  a84176357        a        m                   a   \n",
       "6          4285        4285  a84178814        a        m                   a   \n",
       "7          4582        4582  a84179135        a        m                   a   \n",
       "\n",
       "   edit_date file_date pub_code  ... begin_year_manual end_year_manual  \\\n",
       "0   20070827    850510        s  ...              1861            1912   \n",
       "1   20010317    840620        s  ...              1911            1912   \n",
       "4   20070825    841129        s  ...              1976            2002   \n",
       "6   20130412    840627        s  ...              1949      indefinite   \n",
       "7   20080619    880106        s  ...              1913            1913   \n",
       "\n",
       "     dynasty_grouped dynasty_grouped_multiple  long_term_grouped  \\\n",
       "0               Qing                      NaN          Ming-Qing   \n",
       "1               Qing                      NaN          Ming-Qing   \n",
       "4  People's Republic                      NaN  Twentieth Century   \n",
       "6  People's Republic                      NaN  Twentieth Century   \n",
       "7           Republic                      NaN  Twentieth Century   \n",
       "\n",
       "  long_term_grouped_multiple                          note            Items_y  \\\n",
       "0                        NaN                           NaN          Ming-Qing   \n",
       "1                        NaN                           NaN          Ming-Qing   \n",
       "4                        NaN  The 21st century is included  Twentieth Century   \n",
       "6                        NaN  The 21st century is included  Twentieth Century   \n",
       "7                        NaN                           NaN  Twentieth Century   \n",
       "\n",
       "  total_count dynasty_weight_y  \n",
       "0         1.0              1.0  \n",
       "1         1.0              1.0  \n",
       "4         1.0              1.0  \n",
       "6         1.0              1.0  \n",
       "7         1.0              1.0  \n",
       "\n",
       "[5 rows x 64 columns]"
      ]
     },
     "execution_count": 100,
     "metadata": {},
     "output_type": "execute_result"
    }
   ],
   "source": [
    "meta3a.head()"
   ]
  },
  {
   "cell_type": "code",
   "execution_count": 103,
   "id": "be23955a-0683-4a57-ad27-eac5808a018e",
   "metadata": {},
   "outputs": [
    {
     "data": {
      "text/html": [
       "<div>\n",
       "<style scoped>\n",
       "    .dataframe tbody tr th:only-of-type {\n",
       "        vertical-align: middle;\n",
       "    }\n",
       "\n",
       "    .dataframe tbody tr th {\n",
       "        vertical-align: top;\n",
       "    }\n",
       "\n",
       "    .dataframe thead th {\n",
       "        text-align: right;\n",
       "    }\n",
       "</style>\n",
       "<table border=\"1\" class=\"dataframe\">\n",
       "  <thead>\n",
       "    <tr style=\"text-align: right;\">\n",
       "      <th></th>\n",
       "      <th>Dynasty</th>\n",
       "      <th>Total_count</th>\n",
       "      <th>dynasty_weight</th>\n",
       "    </tr>\n",
       "  </thead>\n",
       "  <tbody>\n",
       "    <tr>\n",
       "      <th>8</th>\n",
       "      <td>Qing</td>\n",
       "      <td>9093</td>\n",
       "      <td>7140.380952</td>\n",
       "    </tr>\n",
       "    <tr>\n",
       "      <th>9</th>\n",
       "      <td>Republic</td>\n",
       "      <td>8091</td>\n",
       "      <td>6183.666667</td>\n",
       "    </tr>\n",
       "    <tr>\n",
       "      <th>5</th>\n",
       "      <td>People's Republic</td>\n",
       "      <td>6806</td>\n",
       "      <td>4902.166667</td>\n",
       "    </tr>\n",
       "    <tr>\n",
       "      <th>10</th>\n",
       "      <td>Song</td>\n",
       "      <td>3105</td>\n",
       "      <td>1747.581502</td>\n",
       "    </tr>\n",
       "    <tr>\n",
       "      <th>3</th>\n",
       "      <td>Ming</td>\n",
       "      <td>3050</td>\n",
       "      <td>1670.581502</td>\n",
       "    </tr>\n",
       "  </tbody>\n",
       "</table>\n",
       "</div>"
      ],
      "text/plain": [
       "              Dynasty  Total_count  dynasty_weight\n",
       "8                Qing         9093     7140.380952\n",
       "9            Republic         8091     6183.666667\n",
       "5   People's Republic         6806     4902.166667\n",
       "10               Song         3105     1747.581502\n",
       "3                Ming         3050     1670.581502"
      ]
     },
     "execution_count": 103,
     "metadata": {},
     "output_type": "execute_result"
    }
   ],
   "source": [
    "dyn_sum1 = meta3a.groupby(\"Items_x\").size().reset_index()\n",
    "dyn_sum1.columns = ['Dynasty', 'Total_count']\n",
    "\n",
    "dyn_sum2 = meta3a.groupby(\"Items_x\")['dynasty_weight_x'].sum().reset_index()\n",
    "dyn_sum2.columns = ['Dynasty', 'dynasty_weight']\n",
    "\n",
    "dyn_sum = dyn_sum1.merge(dyn_sum2, on = \"Dynasty\", how = \"left\").sort_values(by='Total_count', ascending=False)\n",
    "dyn_sum.head()"
   ]
  },
  {
   "cell_type": "code",
   "execution_count": 104,
   "id": "92c1a818-fea0-4ed1-92aa-ed38e556254d",
   "metadata": {},
   "outputs": [],
   "source": [
    "dyn_sum['specialization_index'] = dyn_sum['dynasty_weight'] / dyn_sum['Total_count']"
   ]
  },
  {
   "cell_type": "code",
   "execution_count": 106,
   "id": "cab5e813-d4e9-4c2c-960c-0b30e5581db9",
   "metadata": {},
   "outputs": [],
   "source": [
    "dyn_sum.to_csv(\"../repo/Appendix_Table_2_dynasty_specialization.csv\")"
   ]
  },
  {
   "cell_type": "markdown",
   "id": "fce1c084-be21-42d9-8add-79b9dc8334d5",
   "metadata": {},
   "source": [
    "#### 2.5 Figure 4: "
   ]
  },
  {
   "cell_type": "code",
   "execution_count": 87,
   "id": "8e59ab32-00a6-4145-9137-3512f0e33452",
   "metadata": {},
   "outputs": [
    {
     "name": "stdout",
     "output_type": "stream",
     "text": [
      "49897\n",
      "57098\n"
     ]
    },
    {
     "data": {
      "text/html": [
       "<div>\n",
       "<style scoped>\n",
       "    .dataframe tbody tr th:only-of-type {\n",
       "        vertical-align: middle;\n",
       "    }\n",
       "\n",
       "    .dataframe tbody tr th {\n",
       "        vertical-align: top;\n",
       "    }\n",
       "\n",
       "    .dataframe thead th {\n",
       "        text-align: right;\n",
       "    }\n",
       "</style>\n",
       "<table border=\"1\" class=\"dataframe\">\n",
       "  <thead>\n",
       "    <tr style=\"text-align: right;\">\n",
       "      <th></th>\n",
       "      <th>mapped_country1</th>\n",
       "      <th>Items</th>\n",
       "      <th>Total_count</th>\n",
       "      <th>dynasty_weight</th>\n",
       "      <th>index</th>\n",
       "    </tr>\n",
       "  </thead>\n",
       "  <tbody>\n",
       "    <tr>\n",
       "      <th>24</th>\n",
       "      <td>Greater-China</td>\n",
       "      <td>Qing</td>\n",
       "      <td>6814</td>\n",
       "      <td>5431.904762</td>\n",
       "      <td>0.797168</td>\n",
       "    </tr>\n",
       "    <tr>\n",
       "      <th>25</th>\n",
       "      <td>Greater-China</td>\n",
       "      <td>Republic</td>\n",
       "      <td>5945</td>\n",
       "      <td>4601.833333</td>\n",
       "      <td>0.774068</td>\n",
       "    </tr>\n",
       "    <tr>\n",
       "      <th>21</th>\n",
       "      <td>Greater-China</td>\n",
       "      <td>People's Republic</td>\n",
       "      <td>4388</td>\n",
       "      <td>3046.333333</td>\n",
       "      <td>0.694242</td>\n",
       "    </tr>\n",
       "    <tr>\n",
       "      <th>26</th>\n",
       "      <td>Greater-China</td>\n",
       "      <td>Song</td>\n",
       "      <td>2027</td>\n",
       "      <td>1359.485348</td>\n",
       "      <td>0.670688</td>\n",
       "    </tr>\n",
       "    <tr>\n",
       "      <th>19</th>\n",
       "      <td>Greater-China</td>\n",
       "      <td>Ming</td>\n",
       "      <td>1920</td>\n",
       "      <td>1243.485348</td>\n",
       "      <td>0.647649</td>\n",
       "    </tr>\n",
       "  </tbody>\n",
       "</table>\n",
       "</div>"
      ],
      "text/plain": [
       "   mapped_country1              Items  Total_count  dynasty_weight     index\n",
       "24   Greater-China               Qing         6814     5431.904762  0.797168\n",
       "25   Greater-China           Republic         5945     4601.833333  0.774068\n",
       "21   Greater-China  People's Republic         4388     3046.333333  0.694242\n",
       "26   Greater-China               Song         2027     1359.485348  0.670688\n",
       "19   Greater-China               Ming         1920     1243.485348  0.647649"
      ]
     },
     "execution_count": 87,
     "metadata": {},
     "output_type": "execute_result"
    }
   ],
   "source": [
    "meta3c = meta3a.loc[meta3a.mapped_country1.isin(['Greater-China', 'Europe', \"US\"]) & (meta3a.year_processed > 1945)]\n",
    "\n",
    "print(len(meta3c.index))\n",
    "print(len(meta3a.index))\n",
    "\n",
    "dyn_sum2 = meta3c.groupby(['mapped_country1', \"Items_x\"])['dynasty_weight_x'].sum().reset_index()\n",
    "dyn_sum2.columns = ['mapped_country1', 'Items', 'dynasty_weight']\n",
    "\n",
    "dyn_sum2a = meta3c.groupby([\"mapped_country1\", \"Items_x\"]).size().reset_index()\n",
    "dyn_sum2a.columns = ['mapped_country1', 'Items', 'Total_count']\n",
    "\n",
    "dyn_sum2b = dyn_sum2a.merge(dyn_sum2, on = [\"mapped_country1\", \"Items\"], how = \"left\").sort_values(by='Total_count', ascending=False)\n",
    "dyn_sum2b['index'] = dyn_sum2b['dynasty_weight'] / dyn_sum2b['Total_count']\n",
    "\n",
    "dyn_sum2b.head()"
   ]
  },
  {
   "cell_type": "code",
   "execution_count": 91,
   "id": "31b789a3-b526-4f62-bdf0-789badaf1295",
   "metadata": {},
   "outputs": [
    {
     "data": {
      "text/plain": [
       "Items\n",
       "Qing                               3\n",
       "Republic                           3\n",
       "People's Republic                  3\n",
       "Song                               3\n",
       "Ming                               3\n",
       "Tang                               3\n",
       "Han                                3\n",
       "Zhou                               3\n",
       "Qin                                3\n",
       "Three Kingdoms                     3\n",
       "Northern and Southern Dynasties    3\n",
       "Jin                                3\n",
       "Sui                                3\n",
       "Pre-Zhou                           3\n",
       "Five Dynasties                     3\n",
       "Yuan                               3\n",
       "Name: count, dtype: int64"
      ]
     },
     "execution_count": 91,
     "metadata": {},
     "output_type": "execute_result"
    }
   ],
   "source": [
    "dyn_sum2b.Items.value_counts()"
   ]
  },
  {
   "cell_type": "code",
   "execution_count": 94,
   "id": "b29ec9f2-22e4-4d5d-8c59-a4e9bfa6369b",
   "metadata": {},
   "outputs": [
    {
     "name": "stderr",
     "output_type": "stream",
     "text": [
      "/Users/likai/opt/anaconda3/lib/python3.9/site-packages/plotnine/ggplot.py:718: PlotnineWarning: Saving 5 x 6 in image.\n",
      "/Users/likai/opt/anaconda3/lib/python3.9/site-packages/plotnine/ggplot.py:719: PlotnineWarning: Filename: ../fig_4_region_dynasty.jpg\n"
     ]
    }
   ],
   "source": [
    "dyn_sum2c = dyn_sum2b\n",
    "\n",
    "# Define the desired order for the x-axis categories\n",
    "custom_order = ['Pre-Zhou', 'Zhou', \"Qin\", 'Han', \"Three Kingdoms\", \"Jin\", \"Northern and Southern Dynasties\", \"Sui\", 'Tang', \n",
    "                'Five Dynasties', 'Song', \"Yuan\", 'Ming', 'Qing', 'Republic', \"People's Republic\"]\n",
    "\n",
    "# Convert the 'category' column to a Categorical type with the custom order\n",
    "dyn_sum2c['Items'] = pd.Categorical(dyn_sum2c['Items'], categories=reversed(custom_order), ordered=True)\n",
    "\n",
    "dyn_sum2c['mapped_country1'] = dyn_sum2c['mapped_country1'].replace('Greater-China', 'Greater China')\n",
    "dyn_sum2c['mapped_country1'] = dyn_sum2c['mapped_country1'].replace('US', 'U.S.')\n",
    "dyn_sum2c['mapped_country1'] = pd.Categorical(dyn_sum2c['mapped_country1'], \n",
    "                                                   categories=['Europe', 'Greater China', 'U.S.'])\n",
    "\n",
    "dyn_sum2c.to_csv(\"../fig4_data.csv\")\n",
    "\n",
    "# Define the desired order (same as legend)\n",
    "region_order = [\"U.S.\", \"Greater China\", \"Europe\" ]\n",
    "\n",
    "fig4 = (\n",
    "    ggplot(dyn_sum2c, aes(x = \"Items\", y = \"index\", fill = \"mapped_country1\")) +\n",
    "    geom_bar(stat = \"identity\", position = 'dodge') +\n",
    "    labs(x = \"Dynasty\", y = \"Dedication Index\") + \n",
    "    scale_fill_manual(name = \"Region\",\n",
    "                      values = [\"#1B9E77FF\", \"#D95F02FF\", \"#7570B3FF\"],\n",
    "                      breaks=region_order) +\n",
    "    theme_linedraw() +\n",
    "    coord_flip()\n",
    ")\n",
    "ggsave(fig4, \"../fig_4_region_dynasty.jpg\", width = 5, height = 6, dpi = 500)"
   ]
  },
  {
   "cell_type": "code",
   "execution_count": 95,
   "id": "f85e529a-2992-4d51-9b43-62477b59dfdc",
   "metadata": {},
   "outputs": [
    {
     "data": {
      "image/png": "[encoded data removed]",
      "text/plain": [
       "<Figure size 640x480 with 1 Axes>"
      ]
     },
     "metadata": {},
     "output_type": "display_data"
    },
    {
     "data": {
      "text/plain": [
       "<ggplot: (8759957753299)>"
      ]
     },
     "execution_count": 95,
     "metadata": {},
     "output_type": "execute_result"
    }
   ],
   "source": [
    "fig4"
   ]
  },
  {
   "cell_type": "markdown",
   "id": "3544ed82-2b69-4594-b3b6-d89d50436b4d",
   "metadata": {},
   "source": [
    "#### 2.6 Figure 5: "
   ]
  },
  {
   "cell_type": "code",
   "execution_count": 56,
   "id": "bb5a8dcc-4a8b-4ade-8031-e8915ca1aad6",
   "metadata": {},
   "outputs": [
    {
     "data": {
      "text/html": [
       "<div>\n",
       "<style scoped>\n",
       "    .dataframe tbody tr th:only-of-type {\n",
       "        vertical-align: middle;\n",
       "    }\n",
       "\n",
       "    .dataframe tbody tr th {\n",
       "        vertical-align: top;\n",
       "    }\n",
       "\n",
       "    .dataframe thead th {\n",
       "        text-align: right;\n",
       "    }\n",
       "</style>\n",
       "<table border=\"1\" class=\"dataframe\">\n",
       "  <thead>\n",
       "    <tr style=\"text-align: right;\">\n",
       "      <th></th>\n",
       "      <th>Unnamed: 0.1</th>\n",
       "      <th>Unnamed: 0</th>\n",
       "      <th>id</th>\n",
       "      <th>leader_6</th>\n",
       "      <th>leader_7</th>\n",
       "      <th>leader_17</th>\n",
       "      <th>leader_18</th>\n",
       "      <th>edit_date</th>\n",
       "      <th>file_date</th>\n",
       "      <th>pub_code</th>\n",
       "      <th>...</th>\n",
       "      <th>begin_year_manual</th>\n",
       "      <th>end_year_manual</th>\n",
       "      <th>dynasty_grouped</th>\n",
       "      <th>dynasty_grouped_multiple</th>\n",
       "      <th>long_term_grouped</th>\n",
       "      <th>long_term_grouped_multiple</th>\n",
       "      <th>note</th>\n",
       "      <th>Items_y</th>\n",
       "      <th>total_count</th>\n",
       "      <th>dynasty_weight_y</th>\n",
       "    </tr>\n",
       "  </thead>\n",
       "  <tbody>\n",
       "    <tr>\n",
       "      <th>0</th>\n",
       "      <td>1440</td>\n",
       "      <td>1440</td>\n",
       "      <td>a84175412</td>\n",
       "      <td>a</td>\n",
       "      <td>m</td>\n",
       "      <td></td>\n",
       "      <td>a</td>\n",
       "      <td>20070827</td>\n",
       "      <td>850510</td>\n",
       "      <td>s</td>\n",
       "      <td>...</td>\n",
       "      <td>1861</td>\n",
       "      <td>1912</td>\n",
       "      <td>Qing</td>\n",
       "      <td>NaN</td>\n",
       "      <td>Ming-Qing</td>\n",
       "      <td>NaN</td>\n",
       "      <td>NaN</td>\n",
       "      <td>Ming-Qing</td>\n",
       "      <td>1.0</td>\n",
       "      <td>1.0</td>\n",
       "    </tr>\n",
       "    <tr>\n",
       "      <th>1</th>\n",
       "      <td>1823</td>\n",
       "      <td>1823</td>\n",
       "      <td>a84175934</td>\n",
       "      <td>a</td>\n",
       "      <td>m</td>\n",
       "      <td></td>\n",
       "      <td>a</td>\n",
       "      <td>20010317</td>\n",
       "      <td>840620</td>\n",
       "      <td>s</td>\n",
       "      <td>...</td>\n",
       "      <td>1911</td>\n",
       "      <td>1912</td>\n",
       "      <td>Qing</td>\n",
       "      <td>NaN</td>\n",
       "      <td>Ming-Qing</td>\n",
       "      <td>NaN</td>\n",
       "      <td>NaN</td>\n",
       "      <td>Ming-Qing</td>\n",
       "      <td>1.0</td>\n",
       "      <td>1.0</td>\n",
       "    </tr>\n",
       "    <tr>\n",
       "      <th>4</th>\n",
       "      <td>2168</td>\n",
       "      <td>2168</td>\n",
       "      <td>a84176357</td>\n",
       "      <td>a</td>\n",
       "      <td>m</td>\n",
       "      <td></td>\n",
       "      <td>a</td>\n",
       "      <td>20070825</td>\n",
       "      <td>841129</td>\n",
       "      <td>s</td>\n",
       "      <td>...</td>\n",
       "      <td>1976</td>\n",
       "      <td>2002</td>\n",
       "      <td>People's Republic</td>\n",
       "      <td>NaN</td>\n",
       "      <td>Twentieth Century</td>\n",
       "      <td>NaN</td>\n",
       "      <td>The 21st century is included</td>\n",
       "      <td>Twentieth Century</td>\n",
       "      <td>1.0</td>\n",
       "      <td>1.0</td>\n",
       "    </tr>\n",
       "    <tr>\n",
       "      <th>6</th>\n",
       "      <td>4285</td>\n",
       "      <td>4285</td>\n",
       "      <td>a84178814</td>\n",
       "      <td>a</td>\n",
       "      <td>m</td>\n",
       "      <td></td>\n",
       "      <td>a</td>\n",
       "      <td>20130412</td>\n",
       "      <td>840627</td>\n",
       "      <td>s</td>\n",
       "      <td>...</td>\n",
       "      <td>1949</td>\n",
       "      <td>indefinite</td>\n",
       "      <td>People's Republic</td>\n",
       "      <td>NaN</td>\n",
       "      <td>Twentieth Century</td>\n",
       "      <td>NaN</td>\n",
       "      <td>The 21st century is included</td>\n",
       "      <td>Twentieth Century</td>\n",
       "      <td>1.0</td>\n",
       "      <td>1.0</td>\n",
       "    </tr>\n",
       "    <tr>\n",
       "      <th>7</th>\n",
       "      <td>4582</td>\n",
       "      <td>4582</td>\n",
       "      <td>a84179135</td>\n",
       "      <td>a</td>\n",
       "      <td>m</td>\n",
       "      <td></td>\n",
       "      <td>a</td>\n",
       "      <td>20080619</td>\n",
       "      <td>880106</td>\n",
       "      <td>s</td>\n",
       "      <td>...</td>\n",
       "      <td>1913</td>\n",
       "      <td>1913</td>\n",
       "      <td>Republic</td>\n",
       "      <td>NaN</td>\n",
       "      <td>Twentieth Century</td>\n",
       "      <td>NaN</td>\n",
       "      <td>NaN</td>\n",
       "      <td>Twentieth Century</td>\n",
       "      <td>1.0</td>\n",
       "      <td>1.0</td>\n",
       "    </tr>\n",
       "  </tbody>\n",
       "</table>\n",
       "<p>5 rows × 64 columns</p>\n",
       "</div>"
      ],
      "text/plain": [
       "   Unnamed: 0.1  Unnamed: 0         id leader_6 leader_7 leader_17 leader_18  \\\n",
       "0          1440        1440  a84175412        a        m                   a   \n",
       "1          1823        1823  a84175934        a        m                   a   \n",
       "4          2168        2168  a84176357        a        m                   a   \n",
       "6          4285        4285  a84178814        a        m                   a   \n",
       "7          4582        4582  a84179135        a        m                   a   \n",
       "\n",
       "   edit_date file_date pub_code  ... begin_year_manual end_year_manual  \\\n",
       "0   20070827    850510        s  ...              1861            1912   \n",
       "1   20010317    840620        s  ...              1911            1912   \n",
       "4   20070825    841129        s  ...              1976            2002   \n",
       "6   20130412    840627        s  ...              1949      indefinite   \n",
       "7   20080619    880106        s  ...              1913            1913   \n",
       "\n",
       "     dynasty_grouped dynasty_grouped_multiple  long_term_grouped  \\\n",
       "0               Qing                      NaN          Ming-Qing   \n",
       "1               Qing                      NaN          Ming-Qing   \n",
       "4  People's Republic                      NaN  Twentieth Century   \n",
       "6  People's Republic                      NaN  Twentieth Century   \n",
       "7           Republic                      NaN  Twentieth Century   \n",
       "\n",
       "  long_term_grouped_multiple                          note            Items_y  \\\n",
       "0                        NaN                           NaN          Ming-Qing   \n",
       "1                        NaN                           NaN          Ming-Qing   \n",
       "4                        NaN  The 21st century is included  Twentieth Century   \n",
       "6                        NaN  The 21st century is included  Twentieth Century   \n",
       "7                        NaN                           NaN  Twentieth Century   \n",
       "\n",
       "  total_count dynasty_weight_y  \n",
       "0         1.0              1.0  \n",
       "1         1.0              1.0  \n",
       "4         1.0              1.0  \n",
       "6         1.0              1.0  \n",
       "7         1.0              1.0  \n",
       "\n",
       "[5 rows x 64 columns]"
      ]
     },
     "execution_count": 56,
     "metadata": {},
     "output_type": "execute_result"
    }
   ],
   "source": [
    "meta3a.head()"
   ]
  },
  {
   "cell_type": "code",
   "execution_count": 57,
   "id": "ebbb032b-b345-4bfe-a36e-6bd9797c8edb",
   "metadata": {},
   "outputs": [],
   "source": [
    "dynasty_sum = meta3a.groupby(\"year_processed\")['dynasty_weight_y'].sum().reset_index()\n",
    "dynasty_sum.columns = ['year_processed', 'total']\n",
    "\n",
    "dynastry_year_sum = meta3a.groupby(['year_processed', 'Items_y'])['dynasty_weight_y'].sum().reset_index()\n",
    "dynastry_year_sum.columns = ['year_processed', 'period', 'count']\n",
    "\n",
    "dynastry_year_sum = dynastry_year_sum.merge(dynasty_sum, on = \"year_processed\", how = \"left\")\n",
    "dynastry_year_sum = dynastry_year_sum.loc[(dynastry_year_sum.year_processed > 1945) & (dynastry_year_sum.year_processed < 2019)]\n",
    "dynastry_year_sum['share'] = dynastry_year_sum['count'] / dynastry_year_sum['total']"
   ]
  },
  {
   "cell_type": "code",
   "execution_count": 58,
   "id": "f90e3830-54cd-491c-b887-989d83468851",
   "metadata": {},
   "outputs": [
    {
     "data": {
      "text/html": [
       "<div>\n",
       "<style scoped>\n",
       "    .dataframe tbody tr th:only-of-type {\n",
       "        vertical-align: middle;\n",
       "    }\n",
       "\n",
       "    .dataframe tbody tr th {\n",
       "        vertical-align: top;\n",
       "    }\n",
       "\n",
       "    .dataframe thead th {\n",
       "        text-align: right;\n",
       "    }\n",
       "</style>\n",
       "<table border=\"1\" class=\"dataframe\">\n",
       "  <thead>\n",
       "    <tr style=\"text-align: right;\">\n",
       "      <th></th>\n",
       "      <th>year_processed</th>\n",
       "      <th>period</th>\n",
       "      <th>count</th>\n",
       "      <th>total</th>\n",
       "      <th>share</th>\n",
       "    </tr>\n",
       "  </thead>\n",
       "  <tbody>\n",
       "    <tr>\n",
       "      <th>316</th>\n",
       "      <td>1946</td>\n",
       "      <td>Ming-Qing</td>\n",
       "      <td>1.000000</td>\n",
       "      <td>11.0</td>\n",
       "      <td>0.090909</td>\n",
       "    </tr>\n",
       "    <tr>\n",
       "      <th>317</th>\n",
       "      <td>1946</td>\n",
       "      <td>Twentieth Century</td>\n",
       "      <td>10.000000</td>\n",
       "      <td>11.0</td>\n",
       "      <td>0.909091</td>\n",
       "    </tr>\n",
       "    <tr>\n",
       "      <th>318</th>\n",
       "      <td>1947</td>\n",
       "      <td>Ming-Qing</td>\n",
       "      <td>1.000000</td>\n",
       "      <td>17.0</td>\n",
       "      <td>0.058824</td>\n",
       "    </tr>\n",
       "    <tr>\n",
       "      <th>319</th>\n",
       "      <td>1947</td>\n",
       "      <td>Twentieth Century</td>\n",
       "      <td>16.000000</td>\n",
       "      <td>17.0</td>\n",
       "      <td>0.941176</td>\n",
       "    </tr>\n",
       "    <tr>\n",
       "      <th>320</th>\n",
       "      <td>1948</td>\n",
       "      <td>Tang-Song-Yuan</td>\n",
       "      <td>1.000000</td>\n",
       "      <td>14.0</td>\n",
       "      <td>0.071429</td>\n",
       "    </tr>\n",
       "    <tr>\n",
       "      <th>...</th>\n",
       "      <td>...</td>\n",
       "      <td>...</td>\n",
       "      <td>...</td>\n",
       "      <td>...</td>\n",
       "      <td>...</td>\n",
       "    </tr>\n",
       "    <tr>\n",
       "      <th>590</th>\n",
       "      <td>2017</td>\n",
       "      <td>Twentieth Century</td>\n",
       "      <td>411.000000</td>\n",
       "      <td>1287.0</td>\n",
       "      <td>0.319347</td>\n",
       "    </tr>\n",
       "    <tr>\n",
       "      <th>591</th>\n",
       "      <td>2018</td>\n",
       "      <td>Ming-Qing</td>\n",
       "      <td>65.666667</td>\n",
       "      <td>326.0</td>\n",
       "      <td>0.201431</td>\n",
       "    </tr>\n",
       "    <tr>\n",
       "      <th>592</th>\n",
       "      <td>2018</td>\n",
       "      <td>Pre-Tang</td>\n",
       "      <td>83.666667</td>\n",
       "      <td>326.0</td>\n",
       "      <td>0.256646</td>\n",
       "    </tr>\n",
       "    <tr>\n",
       "      <th>593</th>\n",
       "      <td>2018</td>\n",
       "      <td>Tang-Song-Yuan</td>\n",
       "      <td>47.666667</td>\n",
       "      <td>326.0</td>\n",
       "      <td>0.146217</td>\n",
       "    </tr>\n",
       "    <tr>\n",
       "      <th>594</th>\n",
       "      <td>2018</td>\n",
       "      <td>Twentieth Century</td>\n",
       "      <td>129.000000</td>\n",
       "      <td>326.0</td>\n",
       "      <td>0.395706</td>\n",
       "    </tr>\n",
       "  </tbody>\n",
       "</table>\n",
       "<p>279 rows × 5 columns</p>\n",
       "</div>"
      ],
      "text/plain": [
       "     year_processed             period       count   total     share\n",
       "316            1946          Ming-Qing    1.000000    11.0  0.090909\n",
       "317            1946  Twentieth Century   10.000000    11.0  0.909091\n",
       "318            1947          Ming-Qing    1.000000    17.0  0.058824\n",
       "319            1947  Twentieth Century   16.000000    17.0  0.941176\n",
       "320            1948     Tang-Song-Yuan    1.000000    14.0  0.071429\n",
       "..              ...                ...         ...     ...       ...\n",
       "590            2017  Twentieth Century  411.000000  1287.0  0.319347\n",
       "591            2018          Ming-Qing   65.666667   326.0  0.201431\n",
       "592            2018           Pre-Tang   83.666667   326.0  0.256646\n",
       "593            2018     Tang-Song-Yuan   47.666667   326.0  0.146217\n",
       "594            2018  Twentieth Century  129.000000   326.0  0.395706\n",
       "\n",
       "[279 rows x 5 columns]"
      ]
     },
     "execution_count": 58,
     "metadata": {},
     "output_type": "execute_result"
    }
   ],
   "source": [
    "dynastry_year_sum"
   ]
  },
  {
   "cell_type": "code",
   "execution_count": 59,
   "id": "349f1ac2-b55c-4f3a-a985-6af4654e0cce",
   "metadata": {},
   "outputs": [
    {
     "name": "stderr",
     "output_type": "stream",
     "text": [
      "/Users/likai/opt/anaconda3/lib/python3.9/site-packages/plotnine/ggplot.py:718: PlotnineWarning: Saving 5 x 3.6 in image.\n",
      "/Users/likai/opt/anaconda3/lib/python3.9/site-packages/plotnine/ggplot.py:719: PlotnineWarning: Filename: ../fig_5.jpg\n"
     ]
    }
   ],
   "source": [
    "# Maybe include this graph to show the stable pattern over time.\n",
    "\n",
    "fig_5 = (\n",
    "    ggplot(dynastry_year_sum, aes(x = \"year_processed\", y = \"share\")) + \n",
    "    geom_line(aes(color = \"period\", group = \"period\")) +\n",
    "    labs(x = \"Publication Year\", y = \"Share of collection\") +\n",
    "    scale_color_discrete(name = \"Long Period\") +\n",
    "    scale_y_continuous(\n",
    "        limits = [0, 1],\n",
    "        breaks = [0, 0.25, 0.5, 0.75, 1],\n",
    "        labels = [\"0\", \"25%\", \"50%\", \"75%\", \"100%\"]\n",
    "    ) +\n",
    "    theme_linedraw()\n",
    ")\n",
    "ggsave(fig_5, \"../fig_5.jpg\", width = 5, height = 3.6, dpi = 500)"
   ]
  },
  {
   "cell_type": "code",
   "execution_count": 60,
   "id": "ae62fdca-f859-4ff6-8f04-ae64d64e653a",
   "metadata": {},
   "outputs": [
    {
     "data": {
      "image/png": "[encoded data removed]",
      "text/plain": [
       "<Figure size 640x480 with 1 Axes>"
      ]
     },
     "metadata": {},
     "output_type": "display_data"
    },
    {
     "data": {
      "text/plain": [
       "<ggplot: (8789840092368)>"
      ]
     },
     "execution_count": 60,
     "metadata": {},
     "output_type": "execute_result"
    }
   ],
   "source": [
    "fig_5"
   ]
  },
  {
   "cell_type": "markdown",
   "id": "a64677cd-1381-4440-9bbe-ee0d0d6e82df",
   "metadata": {},
   "source": [
    "#### 2.7 Figure 6"
   ]
  },
  {
   "cell_type": "code",
   "execution_count": 61,
   "id": "57891959-93de-4f87-ab71-d538fc22d44d",
   "metadata": {},
   "outputs": [],
   "source": [
    "dynasty_sum1 = meta3a.groupby([\"year_processed\", \"mapped_country1\"])['dynasty_weight_y'].sum().reset_index()\n",
    "dynasty_sum1.columns = ['year_processed', 'mapped_country1', 'total']\n",
    "\n",
    "dynastry_year_sum1 = meta3a.groupby(['year_processed', 'Items_y', \"mapped_country1\"])['dynasty_weight_y'].sum().reset_index()\n",
    "dynastry_year_sum1.columns = ['year_processed', 'Items', \"mapped_country1\", 'count']\n",
    "\n",
    "dynastry_year_sum2 = dynastry_year_sum1.merge(dynasty_sum1, on = [\"year_processed\", 'mapped_country1'], how = \"left\")\n",
    "dynastry_year_sum2 = dynastry_year_sum2.loc[(dynastry_year_sum1.year_processed > 1959) & (dynastry_year_sum1.year_processed < 2019)]\n",
    "dynastry_year_sum2['share'] = dynastry_year_sum2['count'] / dynastry_year_sum2['total']"
   ]
  },
  {
   "cell_type": "code",
   "execution_count": 76,
   "id": "6122ad42-f53d-4b58-b403-b0e774949793",
   "metadata": {},
   "outputs": [
    {
     "name": "stderr",
     "output_type": "stream",
     "text": [
      "/Users/likai/opt/anaconda3/lib/python3.9/site-packages/plotnine/ggplot.py:718: PlotnineWarning: Saving 5 x 5 in image.\n",
      "/Users/likai/opt/anaconda3/lib/python3.9/site-packages/plotnine/ggplot.py:719: PlotnineWarning: Filename: ../fig_6.jpg\n",
      "/Users/likai/opt/anaconda3/lib/python3.9/site-packages/plotnine/utils.py:635: FutureWarning: The default of observed=False is deprecated and will be changed to True in a future version of pandas. Pass observed=False to retain current behavior or observed=True to adopt the future default and silence this warning.\n",
      "/Users/likai/opt/anaconda3/lib/python3.9/site-packages/plotnine/layer.py:391: PlotnineWarning: position_stack : Removed 166 rows containing missing values.\n",
      "/Users/likai/opt/anaconda3/lib/python3.9/site-packages/plotnine/utils.py:635: FutureWarning: The default of observed=False is deprecated and will be changed to True in a future version of pandas. Pass observed=False to retain current behavior or observed=True to adopt the future default and silence this warning.\n",
      "/Users/likai/opt/anaconda3/lib/python3.9/site-packages/plotnine/layer.py:411: PlotnineWarning: geom_bar : Removed 12 rows containing missing values.\n",
      "/Users/likai/opt/anaconda3/lib/python3.9/site-packages/plotnine/geoms/geom.py:231: FutureWarning: The default of observed=False is deprecated and will be changed to True in a future version of pandas. Pass observed=False to retain current behavior or observed=True to adopt the future default and silence this warning.\n"
     ]
    }
   ],
   "source": [
    "cat_order = ['Pre-Tang', \"Tang-Song-Yuan\", \"Ming-Qing\", \"Twentieth Century\"]\n",
    "dynastry_year_sum2['Items_new'] = pd.Categorical(dynastry_year_sum2['Items'], categories=cat_order, ordered=True)\n",
    "\n",
    "dynastry_year_sum2['mapped_country1'] = dynastry_year_sum2['mapped_country1'].replace('Greater-China', 'Greater China')\n",
    "dynastry_year_sum2['mapped_country1'] = dynastry_year_sum2['mapped_country1'].replace('US', 'U.S.')\n",
    "dynastry_year_sum2['mapped_country1'] = pd.Categorical(dynastry_year_sum2['mapped_country1'], \n",
    "                                                   categories=['U.S.', 'Greater China', 'Europe'])\n",
    "\n",
    "f6 = (\n",
    "    ggplot(dynastry_year_sum2.loc[dynastry_year_sum2.mapped_country1.isin(['Greater China', \"U.S.\", \"Europe\"])],\n",
    "          aes(x = \"year_processed\", y = \"share\")) +\n",
    "    geom_bar(aes(group = \"Items_new\", fill = \"Items_new\"), stat = \"identity\", width = 0.85) +\n",
    "    facet_wrap(\" ~ mapped_country1\", nrow = 3) +\n",
    "    scale_fill_brewer(name = \"Long Period\", type=\"qual\", palette=\"Set1\") +\n",
    "    xlim(1978, 2019) +\n",
    "    labs(x = \"Publication Year\", y = \"Share\") +\n",
    "    scale_y_continuous(\n",
    "        breaks = [0, 0.25, 0.5, 0.75, 1],\n",
    "        labels = [\"0\", \"25%\", \"50%\", \"75%\", \"100%\"]\n",
    "    ) +\n",
    "    theme_linedraw()\n",
    ")\n",
    "\n",
    "ggsave(f6, \"../fig_6.jpg\", height = 5, width = 5, )"
   ]
  },
  {
   "cell_type": "code",
   "execution_count": 77,
   "id": "6402a662-edfe-496c-a5f9-16f1bb2e57e8",
   "metadata": {},
   "outputs": [
    {
     "name": "stderr",
     "output_type": "stream",
     "text": [
      "/Users/likai/opt/anaconda3/lib/python3.9/site-packages/plotnine/utils.py:635: FutureWarning: The default of observed=False is deprecated and will be changed to True in a future version of pandas. Pass observed=False to retain current behavior or observed=True to adopt the future default and silence this warning.\n",
      "/Users/likai/opt/anaconda3/lib/python3.9/site-packages/plotnine/layer.py:391: PlotnineWarning: position_stack : Removed 166 rows containing missing values.\n",
      "/Users/likai/opt/anaconda3/lib/python3.9/site-packages/plotnine/utils.py:635: FutureWarning: The default of observed=False is deprecated and will be changed to True in a future version of pandas. Pass observed=False to retain current behavior or observed=True to adopt the future default and silence this warning.\n",
      "/Users/likai/opt/anaconda3/lib/python3.9/site-packages/plotnine/layer.py:411: PlotnineWarning: geom_bar : Removed 12 rows containing missing values.\n",
      "/Users/likai/opt/anaconda3/lib/python3.9/site-packages/plotnine/geoms/geom.py:231: FutureWarning: The default of observed=False is deprecated and will be changed to True in a future version of pandas. Pass observed=False to retain current behavior or observed=True to adopt the future default and silence this warning.\n"
     ]
    },
    {
     "data": {
      "image/png": "[encoded data removed]",
      "text/plain": [
       "<Figure size 640x480 with 3 Axes>"
      ]
     },
     "metadata": {},
     "output_type": "display_data"
    },
    {
     "data": {
      "text/plain": [
       "<ggplot: (8789838695030)>"
      ]
     },
     "execution_count": 77,
     "metadata": {},
     "output_type": "execute_result"
    }
   ],
   "source": [
    "f6"
   ]
  },
  {
   "cell_type": "code",
   "execution_count": null,
   "id": "6fd047c4-f6d2-4736-a80e-03b0d60d79be",
   "metadata": {},
   "outputs": [],
   "source": []
  }
 ],
 "metadata": {
  "kernelspec": {
   "display_name": "Python 3 (ipykernel)",
   "language": "python",
   "name": "python3"
  },
  "language_info": {
   "codemirror_mode": {
    "name": "ipython",
    "version": 3
   },
   "file_extension": ".py",
   "mimetype": "text/x-python",
   "name": "python",
   "nbconvert_exporter": "python",
   "pygments_lexer": "ipython3",
   "version": "3.9.13"
  }
 },
 "nbformat": 4,
 "nbformat_minor": 5
}
